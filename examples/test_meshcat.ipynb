{
 "cells": [
  {
   "cell_type": "code",
   "execution_count": 2,
   "metadata": {},
   "outputs": [],
   "source": [
    "import mujoco\n",
    "from meshcat_mujoco import MeshCatVisualizer\n",
    "import numpy as np"
   ]
  },
  {
   "cell_type": "code",
   "execution_count": 3,
   "metadata": {},
   "outputs": [],
   "source": [
    "xml_path = './a1/xml/a1.xml'\n",
    "model    = mujoco.MjModel.from_xml_path(xml_path)\n",
    "data     = mujoco.MjData(model)"
   ]
  },
  {
   "cell_type": "code",
   "execution_count": null,
   "metadata": {},
   "outputs": [],
   "source": [
    "viewer = MeshCatVisualizer('./a1/xml/a1.xml', model, data)\n",
    "viewer.jupyter_cell()"
   ]
  }
 ],
 "metadata": {
  "kernelspec": {
   "display_name": "Python 3.10.6 ('meng443arm')",
   "language": "python",
   "name": "python3"
  },
  "language_info": {
   "codemirror_mode": {
    "name": "ipython",
    "version": 3
   },
   "file_extension": ".py",
   "mimetype": "text/x-python",
   "name": "python",
   "nbconvert_exporter": "python",
   "pygments_lexer": "ipython3",
   "version": "3.10.6"
  },
  "orig_nbformat": 4,
  "vscode": {
   "interpreter": {
    "hash": "8a4c8fcd1d64603278e49ea51704004ebbaed6d078e5ae6c40f7c8af5a01823a"
   }
  }
 },
 "nbformat": 4,
 "nbformat_minor": 2
}
