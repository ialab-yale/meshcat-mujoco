{
 "cells": [
  {
   "cell_type": "code",
   "execution_count": 2,
   "metadata": {},
   "outputs": [],
   "source": [
    "import mujoco\n",
    "from meshcat_mujoco import MeshCatVisualizer\n",
    "import numpy as np"
   ]
  },
  {
   "cell_type": "code",
   "execution_count": 3,
   "metadata": {},
   "outputs": [],
   "source": [
    "xml_path = './a1/xml/a1.xml'\n",
    "model    = mujoco.MjModel.from_xml_path(xml_path)\n",
    "data     = mujoco.MjData(model)"
   ]
  },
  {
   "cell_type": "code",
   "execution_count": 4,
   "metadata": {},
   "outputs": [
    {
     "name": "stdout",
     "output_type": "stream",
     "text": [
      "You can open the visualizer by visiting the following URL:\n",
      "http://127.0.0.1:7012/static/\n"
     ]
    },
    {
     "data": {
      "text/html": [
       "\n",
       "            <div style=\"height: 400px; width: 100%; overflow-x: auto; overflow-y: hidden; resize: both\">\n",
       "            <iframe src=\"http://127.0.0.1:7012/static/\" style=\"width: 100%; height: 100%; border: none\"></iframe>\n",
       "            </div>\n",
       "            "
      ],
      "text/plain": [
       "<IPython.core.display.HTML object>"
      ]
     },
     "execution_count": 4,
     "metadata": {},
     "output_type": "execute_result"
    }
   ],
   "source": [
    "viewer = MeshCatVisualizer('./a1/xml/a1.xml', model, data)\n",
    "viewer.jupyter_cell()"
   ]
  },
  {
   "cell_type": "code",
   "execution_count": 5,
   "metadata": {},
   "outputs": [],
   "source": [
    "# PD control parameters\n",
    "kp = 80.\n",
    "kd = 10.\n",
    "# simulate and render\n",
    "i = 0 # <-- counter \n",
    "for _ in range(10000): \n",
    "    with open(\"mocap.txt\",\"r\") as filestream: # < -- grabs the mocap data\n",
    "        for line in filestream:\n",
    "            # the following lines convert the text to target joint values\n",
    "            currentline = line.split(\",\")\n",
    "            frame = currentline[0]\n",
    "            t = currentline[1]\n",
    "            target_joints = np.array([float(_q) for _q in currentline[2:14]])\n",
    "            \n",
    "            # make sure that you can still see the environment \n",
    "            if True:#viewer.is_alive:\n",
    "                # pull the joint position and velocities\n",
    "                q = np.array(data.qpos[7:]) # <-- notice that the first 7 values are the base body position (3) and orientation in quaternains (4)\n",
    "                v = np.array(data.qvel[6:]) # <-- here the joint velocities start after the base body rotations (only 3, not 4)\n",
    "                # basic PD controller \n",
    "                tau = kp * (target_joints-q) + kd * (-v)\n",
    "                # to apply a control input to mujoco, you need to set the inputs to the data structure's ctrl variable\n",
    "                data.ctrl = tau\n",
    "                # the data and model sets passed to the step function to step the simulation. New poses, vel, cont, etc, get recorded into data\n",
    "                mujoco.mj_step(model, data)\n",
    "                \n",
    "                # every 30 steps render the environment \n",
    "                # if i % 30 == 0:\n",
    "                viewer.render()\n",
    "                i += 1\n",
    "            else:\n",
    "                break\n",
    "\n",
    "# close\n"
   ]
  },
  {
   "cell_type": "code",
   "execution_count": null,
   "metadata": {},
   "outputs": [],
   "source": []
  }
 ],
 "metadata": {
  "kernelspec": {
   "display_name": "Python 3.10.6 ('meng443arm')",
   "language": "python",
   "name": "python3"
  },
  "language_info": {
   "codemirror_mode": {
    "name": "ipython",
    "version": 3
   },
   "file_extension": ".py",
   "mimetype": "text/x-python",
   "name": "python",
   "nbconvert_exporter": "python",
   "pygments_lexer": "ipython3",
   "version": "3.10.6"
  },
  "orig_nbformat": 4,
  "vscode": {
   "interpreter": {
    "hash": "8a4c8fcd1d64603278e49ea51704004ebbaed6d078e5ae6c40f7c8af5a01823a"
   }
  }
 },
 "nbformat": 4,
 "nbformat_minor": 2
}
