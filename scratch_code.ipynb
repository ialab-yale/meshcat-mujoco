{
 "cells": [
  {
   "cell_type": "code",
   "execution_count": 1,
   "metadata": {},
   "outputs": [],
   "source": [
    "import meshcat\n",
    "from meshcat import Visualizer\n",
    "import meshcat.geometry as mc_geom\n",
    "import meshcat.transformations as mc_trans\n",
    "# from mjcf_parser import parser\n",
    "# from mjcf_parser import constants\n",
    "from dm_control.mjcf import  parser\n",
    "from dm_control.mjcf import constants\n",
    "from dm_control.mjcf.traversal_utils import commit_defaults\n",
    "import mujoco \n",
    "import numpy as np\n",
    "\n",
    "import random\n"
   ]
  },
  {
   "cell_type": "code",
   "execution_count": 12,
   "metadata": {},
   "outputs": [],
   "source": [
    "\n",
    "_DEFAULT_GEOM_TYPE = \"sphere\"\n",
    "\n",
    "def get_rand_color():\n",
    "    random_number = random.randint(0,16777215)\n",
    "    hex_number = str(hex(random_number))\n",
    "    hex_number ='0x'+ hex_number[2:]\n",
    "    return hex_number\n",
    "\n",
    "def _parse_mesh(_body_viz, _geom, _mesh_dir, _xml_tree):\n",
    "    if hasattr(_geom.mesh, \"file\"):\n",
    "        _mesh_file = _geom.mesh.file \n",
    "    else: \n",
    "        for _mesh_asset in _xml_tree.asset.mesh:\n",
    "            if _mesh_asset.name == _geom.mesh.name:\n",
    "                _mesh_file = _mesh_asset.file\n",
    "    _name       = _mesh_file.get_vfs_filename().split('-')[0]\n",
    "    _ext        = _mesh_file.extension\n",
    "    _mesh_loc   = _mesh_dir + _name + _ext\n",
    "    if _ext == '.stl':\n",
    "        geom_constr = mc_geom.StlMeshGeometry\n",
    "    elif _ext == '.obj':\n",
    "        geom_constr = mc_geom.ObjMeshGeometry\n",
    "\n",
    "    _geom_viz = _body_viz[_geom.mesh.name]\n",
    "    _geom_viz.set_object(\n",
    "        geom_constr.from_file(\n",
    "            _mesh_loc\n",
    "        ),\n",
    "        mc_geom.MeshLambertMaterial(\n",
    "                color=get_rand_color(),#0xff22dd,\n",
    "                reflectivity=0.8)\n",
    "    )\n",
    "    geom_pos = np.zeros(3)\n",
    "    geom_quat = np.zeros(4)\n",
    "    geom_quat[0] = 1.0\n",
    "    if _geom.pos is not None:\n",
    "        geom_pos[:] = _geom.pos\n",
    "    if _geom.quat is not None:\n",
    "        geom_quat[:] = _geom.quat[:]\n",
    "    tf = mc_trans.quaternion_matrix(geom_quat)\n",
    "    tf[:3,3]  = geom_pos\n",
    "    _geom_viz.set_transform(tf)\n",
    "    return _geom_viz\n",
    "\n",
    "def _parse_sphere(_body_viz, _geom, _xml_tree):\n",
    "    if _geom.size is None:\n",
    "        commit_defaults(_geom)\n",
    "    size = _geom.size \n",
    "    radius = size[0]\n",
    "    geom_pos = np.zeros(3)\n",
    "    geom_quat = np.zeros(4)\n",
    "    geom_quat[0] = 1.0\n",
    "    if _geom.pos is not None:\n",
    "        geom_pos[:] = _geom.pos\n",
    "    if _geom.quat is not None:\n",
    "        geom_quat[:] = _geom.quat[:]\n",
    "    tf = mc_trans.quaternion_matrix(geom_quat)\n",
    "    tf[:3,3]  = geom_pos\n",
    "    _geom_viz = _body_viz[_geom.name]\n",
    "\n",
    "    _geom_viz.set_object(\n",
    "        mc_geom.Sphere(radius),\n",
    "        mc_geom.MeshLambertMaterial(\n",
    "                color=get_rand_color(),#0x6495ed,\n",
    "                opacity=0.5,\n",
    "                reflectivity=0.8)\n",
    "    )\n",
    "    _geom_viz.set_transform(tf)\n",
    "    return _geom_viz\n",
    "\n",
    "\n",
    "\n",
    "class MeshCatVisualizer(Visualizer):\n",
    "    def __init__(self, xml_path, mj_model, mj_data) -> None:\n",
    "        Visualizer.__init__(self)\n",
    "        self._mj_data = mj_data\n",
    "        self._mj_model = mj_model\n",
    "        self._xml_path = xml_path\n",
    "        _xml_root = '/'.join(self._xml_path.split('/')[:-1])+'/.'\n",
    "\n",
    "        self._xml_tree = parser.from_path(xml_path)\n",
    "        self._mesh_dir = _xml_root + '/' + self._xml_tree.compiler.meshdir\n",
    "\n",
    "        self._body_names = []\n",
    "        self._site_names = []\n",
    "        self._add_body(self._xml_tree.worldbody, None)\n",
    "\n",
    "    def _add_body(self, body, parent_body):\n",
    "        body_idx = len(self._body_names)\n",
    "        if not parent_body:\n",
    "            body_name = constants.WORLDBODY\n",
    "        else:\n",
    "            body_name = body.name if body.name else f\"body{body_idx}\"\n",
    "        \n",
    "        geoms = body.geom if hasattr(body, \"geom\") else []\n",
    "        sites = body.site if hasattr(body, \"site\") else []\n",
    "        if geoms: \n",
    "            if body_name == constants.WORLDBODY:\n",
    "                if geoms[0].name:\n",
    "                    body_name = geoms[0].name\n",
    "                else:\n",
    "                    if geoms[0].type == \"plane\":\n",
    "                        body_name = \"ground\"\n",
    "\n",
    "        _body_viz   = self[body_name]\n",
    "        if body_name is not constants.WORLDBODY:\n",
    "            self._body_names.append(body_name)\n",
    "            body_id     = mujoco.mj_name2id(self._mj_model, mujoco.mjtObj.mjOBJ_BODY, body_name)\n",
    "            body_pos    = self._mj_data.xpos[body_id]\n",
    "            body_quat   = self._mj_data.xquat[body_id]\n",
    "            tf          = mc_trans.quaternion_matrix(body_quat)\n",
    "            tf[:3,3]    = body_pos\n",
    "            _body_viz.set_transform(tf)\n",
    "\n",
    "                        \n",
    "        for geom in geoms:\n",
    "            if geom.type is None:\n",
    "                commit_defaults(geom, \"type\")\n",
    "                # _geom_type = geom.type\n",
    "                if geom.type is None:\n",
    "                    geom.type = _DEFAULT_GEOM_TYPE\n",
    "            # else:\n",
    "            #     _geom_type = geom.dclass.dclass\n",
    "            if geom.dclass:\n",
    "                if geom.dclass.dclass != \"collision\":\n",
    "                    if (geom.type == constants.MESH):# or (_geom_type =='visual'):\n",
    "                        _parse_mesh(_body_viz, geom, self._mesh_dir, self._xml_tree)\n",
    "                    if (geom.type == \"sphere\"):\n",
    "                        _parse_sphere(_body_viz, geom, self._xml_tree)\n",
    "        for site in sites:\n",
    "            if site.type == \"sphere\":\n",
    "                _parse_sphere(_body_viz, site, self._xml_tree)\n",
    "\n",
    "        # Recurse.\n",
    "        for child_body in body.body:\n",
    "            self._add_body(child_body, body)\n",
    "    def render(self):\n",
    "        for body_name in self._body_names:\n",
    "            if body_name != \"floor\":\n",
    "                body_id = mujoco.mj_name2id(self._mj_model, mujoco.mjtObj.mjOBJ_BODY, body_name)\n",
    "                body_xpos = self._mj_data.xpos[body_id]\n",
    "                body_xmat = self._mj_data.xmat[body_id].reshape((3,3))            \n",
    "                tf = np.eye(4)\n",
    "                tf[:3,:3]   = body_xmat\n",
    "                tf[:3,3]    = body_xpos\n",
    "                self[body_name].set_transform(tf)\n"
   ]
  },
  {
   "cell_type": "code",
   "execution_count": 3,
   "metadata": {},
   "outputs": [],
   "source": [
    "xml_path = './franka_emika_panda/scene_torque_actuators.xml'\n",
    "xml_tree = parser.from_path(xml_path)"
   ]
  },
  {
   "cell_type": "code",
   "execution_count": 13,
   "metadata": {},
   "outputs": [
    {
     "name": "stdout",
     "output_type": "stream",
     "text": [
      "You can open the visualizer by visiting the following URL:\n",
      "http://127.0.0.1:7010/static/\n"
     ]
    },
    {
     "data": {
      "text/html": [
       "\n",
       "            <div style=\"height: 400px; width: 100%; overflow-x: auto; overflow-y: hidden; resize: both\">\n",
       "            <iframe src=\"http://127.0.0.1:7010/static/\" style=\"width: 100%; height: 100%; border: none\"></iframe>\n",
       "            </div>\n",
       "            "
      ],
      "text/plain": [
       "<IPython.core.display.HTML object>"
      ]
     },
     "execution_count": 13,
     "metadata": {},
     "output_type": "execute_result"
    }
   ],
   "source": [
    "# xml_path = './a1/xml/a1.xml'\n",
    "xml_path = './franka_emika_panda/scene_torque_actuators.xml'\n",
    "\n",
    "model = mujoco.MjModel.from_xml_path(xml_path)\n",
    "data = mujoco.MjData(model)\n",
    "mujoco.mj_forward(model, data)\n",
    "visualizer = MeshCatVisualizer(xml_path, model, data)\n",
    "visualizer.jupyter_cell()"
   ]
  },
  {
   "cell_type": "code",
   "execution_count": 14,
   "metadata": {},
   "outputs": [],
   "source": [
    "for _ in range(1000):\n",
    "    mujoco.mj_step(model, data)\n",
    "\n",
    "    visualizer.render()"
   ]
  },
  {
   "cell_type": "code",
   "execution_count": 19,
   "metadata": {},
   "outputs": [],
   "source": [
    "geom_name = visualizer._geom_names[0]\n",
    "geom_id = mujoco.mj_name2id(model, mujoco.mjtObj.mjOBJ_MESH, geom_name)\n",
    "geom_xpos = data.geom_xpos[geom_id]\n",
    "geom_xmat = data.geom_xmat[geom_id].reshape((3,3))"
   ]
  },
  {
   "cell_type": "code",
   "execution_count": 34,
   "metadata": {},
   "outputs": [
    {
     "data": {
      "text/plain": [
       "<mjtObj.mjOBJ_GEOM: 5>"
      ]
     },
     "execution_count": 34,
     "metadata": {},
     "output_type": "execute_result"
    }
   ],
   "source": [
    "mujoco.mjtObj.mjOBJ_GEOM"
   ]
  },
  {
   "cell_type": "code",
   "execution_count": 23,
   "metadata": {},
   "outputs": [
    {
     "data": {
      "text/plain": [
       "(37, 3)"
      ]
     },
     "execution_count": 23,
     "metadata": {},
     "output_type": "execute_result"
    }
   ],
   "source": [
    "data.geom_xpos.shape"
   ]
  },
  {
   "cell_type": "code",
   "execution_count": null,
   "metadata": {},
   "outputs": [],
   "source": []
  },
  {
   "cell_type": "code",
   "execution_count": 32,
   "metadata": {},
   "outputs": [
    {
     "data": {
      "text/plain": [
       "'trunk'"
      ]
     },
     "execution_count": 32,
     "metadata": {},
     "output_type": "execute_result"
    }
   ],
   "source": [
    "geom_name"
   ]
  },
  {
   "cell_type": "code",
   "execution_count": 28,
   "metadata": {},
   "outputs": [
    {
     "data": {
      "text/plain": [
       "<mjtObj.mjOBJ_MESH: 9>"
      ]
     },
     "execution_count": 28,
     "metadata": {},
     "output_type": "execute_result"
    }
   ],
   "source": [
    "mujoco.mjtObj.mjOBJ_MESH"
   ]
  },
  {
   "cell_type": "code",
   "execution_count": 30,
   "metadata": {},
   "outputs": [
    {
     "data": {
      "text/plain": [
       "array([[ 0.00000000e+00,  0.00000000e+00,  0.00000000e+00],\n",
       "       [ 3.83231838e-02,  4.39645123e-05,  5.01516492e-04],\n",
       "       [ 0.00000000e+00,  0.00000000e+00,  0.00000000e+00],\n",
       "       [ 0.00000000e+00,  0.00000000e+00,  0.00000000e+00],\n",
       "       [ 0.00000000e+00,  0.00000000e+00,  0.00000000e+00],\n",
       "       [-8.01465656e-03, -1.26150927e-04,  1.86924988e-06],\n",
       "       [ 0.00000000e+00, -5.50000000e-02,  0.00000000e+00],\n",
       "       [-3.10750493e-03,  2.17985918e-02, -2.70516790e-02],\n",
       "       [ 0.00000000e+00,  0.00000000e+00, -1.00000000e-01],\n",
       "       [ 6.39596322e-03,  2.43462098e-05, -1.24936284e-01],\n",
       "       [ 0.00000000e+00,  0.00000000e+00, -1.00000000e-01],\n",
       "       [ 0.00000000e+00,  0.00000000e+00, -2.00000000e-01],\n",
       "       [ 0.00000000e+00,  0.00000000e+00, -2.00000000e-01],\n",
       "       [-8.01465656e-03,  1.26150927e-04, -1.86924988e-06],\n",
       "       [ 0.00000000e+00,  5.50000000e-02,  0.00000000e+00],\n",
       "       [-3.10780631e-03, -2.17962211e-02, -2.70684202e-02],\n",
       "       [ 0.00000000e+00,  0.00000000e+00, -1.00000000e-01],\n",
       "       [ 6.39596322e-03,  2.43462098e-05, -1.24936284e-01],\n",
       "       [ 0.00000000e+00,  0.00000000e+00, -1.00000000e-01],\n",
       "       [ 0.00000000e+00,  0.00000000e+00, -2.00000000e-01],\n",
       "       [ 0.00000000e+00,  0.00000000e+00, -2.00000000e-01],\n",
       "       [ 8.01465656e-03, -1.26150927e-04, -1.86924988e-06],\n",
       "       [ 0.00000000e+00, -5.50000000e-02,  0.00000000e+00],\n",
       "       [-3.10750493e-03,  2.17985918e-02, -2.70516790e-02],\n",
       "       [ 0.00000000e+00,  0.00000000e+00, -1.00000000e-01],\n",
       "       [ 6.39596322e-03,  2.43462098e-05, -1.24936284e-01],\n",
       "       [ 0.00000000e+00,  0.00000000e+00, -1.00000000e-01],\n",
       "       [ 0.00000000e+00,  0.00000000e+00, -2.00000000e-01],\n",
       "       [ 0.00000000e+00,  0.00000000e+00, -2.00000000e-01],\n",
       "       [ 8.01465656e-03,  1.26150927e-04,  1.86924988e-06],\n",
       "       [ 0.00000000e+00,  5.50000000e-02,  0.00000000e+00],\n",
       "       [-3.10780631e-03, -2.17962211e-02, -2.70684202e-02],\n",
       "       [ 0.00000000e+00,  0.00000000e+00, -1.00000000e-01],\n",
       "       [ 6.39596322e-03,  2.43462098e-05, -1.24936284e-01],\n",
       "       [ 0.00000000e+00,  0.00000000e+00, -1.00000000e-01],\n",
       "       [ 0.00000000e+00,  0.00000000e+00, -2.00000000e-01],\n",
       "       [ 0.00000000e+00,  0.00000000e+00, -2.00000000e-01]])"
      ]
     },
     "execution_count": 30,
     "metadata": {},
     "output_type": "execute_result"
    }
   ],
   "source": [
    "model.geom_pos"
   ]
  },
  {
   "cell_type": "code",
   "execution_count": 24,
   "metadata": {},
   "outputs": [
    {
     "data": {
      "text/plain": [
       "13"
      ]
     },
     "execution_count": 24,
     "metadata": {},
     "output_type": "execute_result"
    }
   ],
   "source": [
    "len(visualizer._geom_names)"
   ]
  },
  {
   "cell_type": "code",
   "execution_count": 6,
   "metadata": {},
   "outputs": [
    {
     "ename": "KeyboardInterrupt",
     "evalue": "",
     "output_type": "error",
     "traceback": [
      "\u001b[0;31m---------------------------------------------------------------------------\u001b[0m",
      "\u001b[0;31mKeyboardInterrupt\u001b[0m                         Traceback (most recent call last)",
      "\u001b[1;32m/home/anon/Courses/meshcat-mujoco/scratch_code.ipynb Cell 12\u001b[0m in \u001b[0;36m<cell line: 1>\u001b[0;34m()\u001b[0m\n\u001b[1;32m      <a href='vscode-notebook-cell:/home/anon/Courses/meshcat-mujoco/scratch_code.ipynb#X15sZmlsZQ%3D%3D?line=0'>1</a>\u001b[0m \u001b[39mfor\u001b[39;00m _ \u001b[39min\u001b[39;00m \u001b[39mrange\u001b[39m(\u001b[39m100000\u001b[39m):\n\u001b[1;32m      <a href='vscode-notebook-cell:/home/anon/Courses/meshcat-mujoco/scratch_code.ipynb#X15sZmlsZQ%3D%3D?line=1'>2</a>\u001b[0m     mujoco\u001b[39m.\u001b[39mmj_step(model, data)\n\u001b[0;32m----> <a href='vscode-notebook-cell:/home/anon/Courses/meshcat-mujoco/scratch_code.ipynb#X15sZmlsZQ%3D%3D?line=2'>3</a>\u001b[0m     visualizer\u001b[39m.\u001b[39;49mrender()\n",
      "\u001b[1;32m/home/anon/Courses/meshcat-mujoco/scratch_code.ipynb Cell 12\u001b[0m in \u001b[0;36mMeshCatVisualizer.render\u001b[0;34m(self)\u001b[0m\n\u001b[1;32m     <a href='vscode-notebook-cell:/home/anon/Courses/meshcat-mujoco/scratch_code.ipynb#X15sZmlsZQ%3D%3D?line=58'>59</a>\u001b[0m tf[:\u001b[39m3\u001b[39m,:\u001b[39m3\u001b[39m]   \u001b[39m=\u001b[39m geom_xmat\n\u001b[1;32m     <a href='vscode-notebook-cell:/home/anon/Courses/meshcat-mujoco/scratch_code.ipynb#X15sZmlsZQ%3D%3D?line=59'>60</a>\u001b[0m tf[:\u001b[39m3\u001b[39m,\u001b[39m3\u001b[39m]    \u001b[39m=\u001b[39m geom_xpos\n\u001b[0;32m---> <a href='vscode-notebook-cell:/home/anon/Courses/meshcat-mujoco/scratch_code.ipynb#X15sZmlsZQ%3D%3D?line=60'>61</a>\u001b[0m \u001b[39mself\u001b[39;49m[geom_name]\u001b[39m.\u001b[39;49mset_transform(tf)\n",
      "File \u001b[0;32m~/miniconda3/envs/meng443arm/lib/python3.10/site-packages/meshcat/visualizer.py:152\u001b[0m, in \u001b[0;36mVisualizer.set_transform\u001b[0;34m(self, matrix)\u001b[0m\n\u001b[1;32m    151\u001b[0m \u001b[39mdef\u001b[39;00m \u001b[39mset_transform\u001b[39m(\u001b[39mself\u001b[39m, matrix\u001b[39m=\u001b[39mnp\u001b[39m.\u001b[39meye(\u001b[39m4\u001b[39m)):\n\u001b[0;32m--> 152\u001b[0m     \u001b[39mreturn\u001b[39;00m \u001b[39mself\u001b[39;49m\u001b[39m.\u001b[39;49mwindow\u001b[39m.\u001b[39;49msend(SetTransform(matrix, \u001b[39mself\u001b[39;49m\u001b[39m.\u001b[39;49mpath))\n",
      "File \u001b[0;32m~/miniconda3/envs/meng443arm/lib/python3.10/site-packages/meshcat/visualizer.py:63\u001b[0m, in \u001b[0;36mViewerWindow.send\u001b[0;34m(self, command)\u001b[0m\n\u001b[1;32m     57\u001b[0m cmd_data \u001b[39m=\u001b[39m command\u001b[39m.\u001b[39mlower()\n\u001b[1;32m     58\u001b[0m \u001b[39mself\u001b[39m\u001b[39m.\u001b[39mzmq_socket\u001b[39m.\u001b[39msend_multipart([\n\u001b[1;32m     59\u001b[0m     cmd_data[\u001b[39m\"\u001b[39m\u001b[39mtype\u001b[39m\u001b[39m\"\u001b[39m]\u001b[39m.\u001b[39mencode(\u001b[39m\"\u001b[39m\u001b[39mutf-8\u001b[39m\u001b[39m\"\u001b[39m),\n\u001b[1;32m     60\u001b[0m     cmd_data[\u001b[39m\"\u001b[39m\u001b[39mpath\u001b[39m\u001b[39m\"\u001b[39m]\u001b[39m.\u001b[39mencode(\u001b[39m\"\u001b[39m\u001b[39mutf-8\u001b[39m\u001b[39m\"\u001b[39m),\n\u001b[1;32m     61\u001b[0m     umsgpack\u001b[39m.\u001b[39mpackb(cmd_data)\n\u001b[1;32m     62\u001b[0m ])\n\u001b[0;32m---> 63\u001b[0m \u001b[39mself\u001b[39;49m\u001b[39m.\u001b[39;49mzmq_socket\u001b[39m.\u001b[39;49mrecv()\n",
      "File \u001b[0;32mzmq/backend/cython/socket.pyx:803\u001b[0m, in \u001b[0;36mzmq.backend.cython.socket.Socket.recv\u001b[0;34m()\u001b[0m\n",
      "File \u001b[0;32mzmq/backend/cython/socket.pyx:839\u001b[0m, in \u001b[0;36mzmq.backend.cython.socket.Socket.recv\u001b[0;34m()\u001b[0m\n",
      "File \u001b[0;32mzmq/backend/cython/socket.pyx:188\u001b[0m, in \u001b[0;36mzmq.backend.cython.socket._recv_copy\u001b[0;34m()\u001b[0m\n",
      "File \u001b[0;32m~/miniconda3/envs/meng443arm/lib/python3.10/site-packages/zmq/backend/cython/checkrc.pxd:13\u001b[0m, in \u001b[0;36mzmq.backend.cython.checkrc._check_rc\u001b[0;34m()\u001b[0m\n",
      "\u001b[0;31mKeyboardInterrupt\u001b[0m: "
     ]
    }
   ],
   "source": [
    "for _ in range(100000):\n",
    "    mujoco.mj_step(model, data)\n",
    "    visualizer.render()"
   ]
  },
  {
   "cell_type": "code",
   "execution_count": 17,
   "metadata": {},
   "outputs": [
    {
     "data": {
      "text/plain": [
       "'./a1/xml'"
      ]
     },
     "execution_count": 17,
     "metadata": {},
     "output_type": "execute_result"
    }
   ],
   "source": [
    "'/'.join(xml_path.split('/')[:-1])"
   ]
  },
  {
   "cell_type": "code",
   "execution_count": 46,
   "metadata": {},
   "outputs": [
    {
     "data": {
      "text/plain": [
       "['trunk', '06aa6e8f5faf130f61682e779415f4132196cdd6.stl']"
      ]
     },
     "execution_count": 46,
     "metadata": {},
     "output_type": "execute_result"
    }
   ],
   "source": [
    "visualizer._xml_tree.worldbody.body[0].geom[0].mesh.file.get_vfs_filename().split('-')"
   ]
  },
  {
   "cell_type": "code",
   "execution_count": 41,
   "metadata": {},
   "outputs": [
    {
     "data": {
      "text/plain": [
       "MJCF Elements List: ['<mesh name=\"trunk\" class=\"/\" file=\"trunk-06aa6e8f5faf130f61682e779415f4132196cdd6.stl\"/>', '<mesh name=\"hip\" class=\"/\" file=\"hip-80a0b0bdcc3bf251996c84e9ac5b7a53026ceca0.stl\"/>', '<mesh name=\"thigh_mirror\" class=\"/\" file=\"thigh_mirror-82ee3d06a2feb71351e4274212ff53000e534b85.stl\"/>', '<mesh name=\"calf\" class=\"/\" file=\"calf-2ff00292594a062d709752091469153dd8dfe7b5.stl\"/>', '<mesh name=\"thigh\" class=\"/\" file=\"thigh-9aca36764f586ec5f074bedd039f4521bb2758cf.stl\"/>']"
      ]
     },
     "execution_count": 41,
     "metadata": {},
     "output_type": "execute_result"
    }
   ],
   "source": [
    "visualizer._xml_tree.asset.mesh"
   ]
  },
  {
   "cell_type": "code",
   "execution_count": 11,
   "metadata": {},
   "outputs": [
    {
     "data": {
      "text/plain": [
       "'trunk'"
      ]
     },
     "execution_count": 11,
     "metadata": {},
     "output_type": "execute_result"
    }
   ],
   "source": [
    "visualizer._xml_tree.worldbody.body[0].geom[0].mesh.name"
   ]
  },
  {
   "cell_type": "code",
   "execution_count": 48,
   "metadata": {},
   "outputs": [
    {
     "data": {
      "text/plain": [
       "'trunk'"
      ]
     },
     "execution_count": 48,
     "metadata": {},
     "output_type": "execute_result"
    }
   ],
   "source": [
    "visualizer._xml_tree.worldbody.body[0].geom[0].mesh.name"
   ]
  },
  {
   "cell_type": "code",
   "execution_count": 10,
   "metadata": {},
   "outputs": [
    {
     "data": {
      "text/plain": [
       "'trunk'"
      ]
     },
     "execution_count": 10,
     "metadata": {},
     "output_type": "execute_result"
    }
   ],
   "source": [
    "visualizer._xml_tree.worldbody.body[0].name"
   ]
  },
  {
   "cell_type": "code",
   "execution_count": null,
   "metadata": {},
   "outputs": [],
   "source": []
  }
 ],
 "metadata": {
  "kernelspec": {
   "display_name": "Python 3.10.6 ('meng443arm')",
   "language": "python",
   "name": "python3"
  },
  "language_info": {
   "codemirror_mode": {
    "name": "ipython",
    "version": 3
   },
   "file_extension": ".py",
   "mimetype": "text/x-python",
   "name": "python",
   "nbconvert_exporter": "python",
   "pygments_lexer": "ipython3",
   "version": "3.10.6"
  },
  "orig_nbformat": 4,
  "vscode": {
   "interpreter": {
    "hash": "7e1205e302398dd02bd48c71bb7eceb4729eb3a245520ba0a632d0a1f7a8e35a"
   }
  }
 },
 "nbformat": 4,
 "nbformat_minor": 2
}
